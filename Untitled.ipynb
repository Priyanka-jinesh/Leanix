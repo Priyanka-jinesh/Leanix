{
 "cells": [
  {
   "cell_type": "code",
   "execution_count": null,
   "id": "f370d6f9",
   "metadata": {},
   "outputs": [],
   "source": [
    "import json \n",
    "import requests \n",
    "import pandas as pd\n",
    "from pandas.io.json import json_normalize\n",
    "api_token = 'wR6uVuJhdEqHqCn7f6ZOKaHAy2mK2AfYCeAwVqCb'\n",
    "workspace_id = 'c2f4db82-a46e-4128-862f-f0531ce8de03'\n",
    "\n",
    "auth_url = 'https://eu-svc.leanix.net/services/mtm/v1/oauth2/token' \n",
    "request_url = 'https://eu-svc.leanix.net/services/mtm/v1/workspaces/%s/users?page=0'%(workspace_id) \n",
    "\n",
    "# Get the bearer token - see https://dev.leanix.net/v4.0/docs/authentication\n",
    "response = requests.post(auth_url, auth=('apitoken', api_token),\n",
    "                         data={'grant_type': 'client_credentials'})\n",
    "response.raise_for_status() \n",
    "access_token = response.json()['access_token']\n",
    "auth_header = 'Bearer ' + access_token\n",
    "header = {'Authorization': auth_header}\n",
    "\n",
    "# General function to call GraphQL given a query\n",
    "def call():\n",
    "  response = requests.get(url=request_url, headers=header)\n",
    "  response.raise_for_status()\n",
    "  return response.json()\n",
    "funct = call()['data']\n",
    "df = pd.json_normalize(funct, max_level=1)\n",
    "df_new = df[['firstName','lastName','email','currentLogin']]\n",
    "df_new[['Date','Time','seconds']] = df_new['currentLogin'].str.split('[T.]', expand = True)\n",
    "final_df = df_new[['firstName', 'lastName', 'email', 'Date', 'Time']]\n",
    "final_df = final_df.fillna('Not Available')\n",
    "final_df.to_csv('output.csv')\n",
    "final_df.head(13)"
   ]
  },
  {
   "cell_type": "code",
   "execution_count": null,
   "id": "f97c94b1",
   "metadata": {},
   "outputs": [],
   "source": []
  }
 ],
 "metadata": {
  "kernelspec": {
   "display_name": "Python 3 (ipykernel)",
   "language": "python",
   "name": "python3"
  },
  "language_info": {
   "codemirror_mode": {
    "name": "ipython",
    "version": 3
   },
   "file_extension": ".py",
   "mimetype": "text/x-python",
   "name": "python",
   "nbconvert_exporter": "python",
   "pygments_lexer": "ipython3",
   "version": "3.9.7"
  }
 },
 "nbformat": 4,
 "nbformat_minor": 5
}
