{
 "cells": [
  {
   "cell_type": "markdown",
   "id": "af041538",
   "metadata": {},
   "source": [
    "### Importing the libraries"
   ]
  },
  {
   "cell_type": "code",
   "execution_count": 1,
   "id": "270eee2e",
   "metadata": {},
   "outputs": [],
   "source": [
    "import json \n",
    "import requests \n",
    "import pandas as pd"
   ]
  },
  {
   "cell_type": "code",
   "execution_count": 2,
   "id": "fe2f5f63",
   "metadata": {},
   "outputs": [],
   "source": [
    "api_token = 'wR6uVuJhdEqHqCn7f6ZOKaHAy2mK2AfYCeAwVqCb'\n",
    "workspace_id = 'c2f4db82-a46e-4128-862f-f0531ce8de03'\n",
    "\n",
    "auth_url = 'https://eu-svc.leanix.net/services/mtm/v1/oauth2/token' \n",
    "request_url = 'https://eu-svc.leanix.net/services/mtm/v1/workspaces/%s/users?page=0'%(workspace_id) \n",
    "\n",
    "# Get the bearer token - see https://dev.leanix.net/v4.0/docs/authentication\n",
    "response = requests.post(auth_url, auth=('apitoken', api_token),\n",
    "                         data={'grant_type': 'client_credentials'})\n",
    "response.raise_for_status() \n",
    "access_token = response.json()['access_token']\n",
    "auth_header = 'Bearer ' + access_token\n",
    "header = {'Authorization': auth_header}"
   ]
  },
  {
   "cell_type": "markdown",
   "id": "045fc334",
   "metadata": {},
   "source": [
    "### Function to call the given query "
   ]
  },
  {
   "cell_type": "code",
   "execution_count": 3,
   "id": "f49a66a8",
   "metadata": {},
   "outputs": [],
   "source": [
    "def call():\n",
    "  response = requests.get(url=request_url, headers=header)\n",
    "  response.raise_for_status()\n",
    "  return response.json()"
   ]
  },
  {
   "cell_type": "code",
   "execution_count": 4,
   "id": "316f91f1",
   "metadata": {},
   "outputs": [],
   "source": [
    "email_list, first_name_list, last_name_list, last_login_list = ([] for i in range(4))"
   ]
  },
  {
   "cell_type": "code",
   "execution_count": 5,
   "id": "24e78f6d",
   "metadata": {},
   "outputs": [],
   "source": [
    "funct = call()"
   ]
  },
  {
   "cell_type": "markdown",
   "id": "bcf5d14b",
   "metadata": {},
   "source": [
    "### Loop to find out the users data"
   ]
  },
  {
   "cell_type": "code",
   "execution_count": 6,
   "id": "f1ddff2b",
   "metadata": {},
   "outputs": [],
   "source": [
    "for user in funct['data']:\n",
    "    first_name_list.append(user['firstName'])\n",
    "    last_name_list.append(user['lastName'])\n",
    "    email_list.append(user['email'])"
   ]
  },
  {
   "cell_type": "code",
   "execution_count": 7,
   "id": "68860ed6",
   "metadata": {},
   "outputs": [],
   "source": [
    "df = pd.DataFrame()"
   ]
  },
  {
   "cell_type": "markdown",
   "id": "0e2bbd63",
   "metadata": {},
   "source": [
    "### Defining columns for the dataframe using the lists:"
   ]
  },
  {
   "cell_type": "code",
   "execution_count": 8,
   "id": "7140407a",
   "metadata": {},
   "outputs": [],
   "source": [
    "df['First_Name'] = first_name_list\n",
    "df['Last_Name'] = last_name_list\n",
    "df['Email'] = email_list"
   ]
  },
  {
   "cell_type": "code",
   "execution_count": 9,
   "id": "62fc8fba",
   "metadata": {},
   "outputs": [],
   "source": [
    "df = df.set_index('First_Name')"
   ]
  },
  {
   "cell_type": "code",
   "execution_count": 10,
   "id": "0f77aedd",
   "metadata": {},
   "outputs": [],
   "source": [
    "first = []\n",
    "current_login = []"
   ]
  },
  {
   "cell_type": "code",
   "execution_count": 11,
   "id": "146a5930",
   "metadata": {},
   "outputs": [
    {
     "name": "stdout",
     "output_type": "stream",
     "text": [
      "15\n",
      "15\n",
      "15\n",
      "15\n",
      "15\n",
      "15\n",
      "15\n",
      "15\n",
      "19\n",
      "17\n",
      "15\n",
      "15\n",
      "17\n"
     ]
    }
   ],
   "source": [
    "for user in funct['data']:\n",
    "    print(len(user.keys()))"
   ]
  },
  {
   "cell_type": "markdown",
   "id": "939c4a28",
   "metadata": {},
   "source": [
    "Some of the users data doesn't have a current login time. This can be seen in the length of the keys. If the user length is 15 or less, then that user does not have the current login data. The code below shows to extract the current login data from the user."
   ]
  },
  {
   "cell_type": "code",
   "execution_count": 12,
   "id": "336f9ca0",
   "metadata": {},
   "outputs": [],
   "source": [
    "for user in funct['data']:\n",
    "    if len(user.keys())>15:\n",
    "        first.append(user['firstName'])\n",
    "        current_login.append(user['currentLogin'])"
   ]
  },
  {
   "cell_type": "code",
   "execution_count": 13,
   "id": "aaff9623",
   "metadata": {},
   "outputs": [],
   "source": [
    "df1 = pd.DataFrame()\n",
    "df1['First_Name'] = first\n",
    "df1['Current_Login'] = current_login"
   ]
  },
  {
   "cell_type": "code",
   "execution_count": 14,
   "id": "9362cb4d",
   "metadata": {},
   "outputs": [],
   "source": [
    "df1 =df1.set_index('First_Name')"
   ]
  },
  {
   "cell_type": "markdown",
   "id": "840a9df6",
   "metadata": {},
   "source": [
    "### Joining the data frame with the first name as the index "
   ]
  },
  {
   "cell_type": "code",
   "execution_count": 15,
   "id": "331b1b9f",
   "metadata": {},
   "outputs": [],
   "source": [
    "df =df.join(df1)"
   ]
  },
  {
   "cell_type": "code",
   "execution_count": 16,
   "id": "798f2a56",
   "metadata": {},
   "outputs": [],
   "source": [
    "df = df.fillna('Not Available')"
   ]
  },
  {
   "cell_type": "markdown",
   "id": "99976bd4",
   "metadata": {},
   "source": [
    "### Saving the data frame into csv"
   ]
  },
  {
   "cell_type": "code",
   "execution_count": 18,
   "id": "7f554721",
   "metadata": {},
   "outputs": [],
   "source": [
    "df.to_csv('output.csv')"
   ]
  },
  {
   "cell_type": "code",
   "execution_count": 19,
   "id": "8e74fa1e",
   "metadata": {},
   "outputs": [],
   "source": [
    "df =pd.read_csv('output.csv')"
   ]
  },
  {
   "cell_type": "markdown",
   "id": "2848191f",
   "metadata": {},
   "source": [
    "### The output:"
   ]
  },
  {
   "cell_type": "code",
   "execution_count": 22,
   "id": "85e8ebb9",
   "metadata": {},
   "outputs": [
    {
     "data": {
      "text/html": [
       "<div>\n",
       "<style scoped>\n",
       "    .dataframe tbody tr th:only-of-type {\n",
       "        vertical-align: middle;\n",
       "    }\n",
       "\n",
       "    .dataframe tbody tr th {\n",
       "        vertical-align: top;\n",
       "    }\n",
       "\n",
       "    .dataframe thead th {\n",
       "        text-align: right;\n",
       "    }\n",
       "</style>\n",
       "<table border=\"1\" class=\"dataframe\">\n",
       "  <thead>\n",
       "    <tr style=\"text-align: right;\">\n",
       "      <th></th>\n",
       "      <th>First_Name</th>\n",
       "      <th>Last_Name</th>\n",
       "      <th>Email</th>\n",
       "      <th>Current_Login</th>\n",
       "    </tr>\n",
       "  </thead>\n",
       "  <tbody>\n",
       "    <tr>\n",
       "      <th>0</th>\n",
       "      <td>Nicola</td>\n",
       "      <td>Martin</td>\n",
       "      <td>nicola.PRIDemo@meshlab.de</td>\n",
       "      <td>Not Available</td>\n",
       "    </tr>\n",
       "    <tr>\n",
       "      <th>1</th>\n",
       "      <td>Richard</td>\n",
       "      <td>Best</td>\n",
       "      <td>srv.PRIDemo@meshlab.de</td>\n",
       "      <td>Not Available</td>\n",
       "    </tr>\n",
       "    <tr>\n",
       "      <th>2</th>\n",
       "      <td>Carol</td>\n",
       "      <td>Brown</td>\n",
       "      <td>pgm.PRIDemo@meshlab.de</td>\n",
       "      <td>Not Available</td>\n",
       "    </tr>\n",
       "    <tr>\n",
       "      <th>3</th>\n",
       "      <td>Peter</td>\n",
       "      <td>Schmidt</td>\n",
       "      <td>cio.PRIDemo@meshlab.de</td>\n",
       "      <td>Not Available</td>\n",
       "    </tr>\n",
       "    <tr>\n",
       "      <th>4</th>\n",
       "      <td>Paula</td>\n",
       "      <td>Watson</td>\n",
       "      <td>mgr.PRIDemo@meshlab.de</td>\n",
       "      <td>Not Available</td>\n",
       "    </tr>\n",
       "    <tr>\n",
       "      <th>5</th>\n",
       "      <td>Christina</td>\n",
       "      <td>Weber</td>\n",
       "      <td>christina.PRIDemo@meshlab.de</td>\n",
       "      <td>Not Available</td>\n",
       "    </tr>\n",
       "    <tr>\n",
       "      <th>6</th>\n",
       "      <td>Max</td>\n",
       "      <td>Sander</td>\n",
       "      <td>max.PRIDemo@meshlab.de</td>\n",
       "      <td>Not Available</td>\n",
       "    </tr>\n",
       "    <tr>\n",
       "      <th>7</th>\n",
       "      <td>Benjamin</td>\n",
       "      <td>Parker</td>\n",
       "      <td>benjamin.PRIDemo@meshlab.de</td>\n",
       "      <td>Not Available</td>\n",
       "    </tr>\n",
       "    <tr>\n",
       "      <th>8</th>\n",
       "      <td>LeanIX</td>\n",
       "      <td>Support</td>\n",
       "      <td>support@leanix.net</td>\n",
       "      <td>2022-04-01T11:44:00.248Z</td>\n",
       "    </tr>\n",
       "    <tr>\n",
       "      <th>9</th>\n",
       "      <td>Francois</td>\n",
       "      <td>Kruger</td>\n",
       "      <td>francois.kruger@leanix.net</td>\n",
       "      <td>2022-04-01T09:22:47.671Z</td>\n",
       "    </tr>\n",
       "    <tr>\n",
       "      <th>10</th>\n",
       "      <td>David</td>\n",
       "      <td>Koop</td>\n",
       "      <td>office.PRIDemo@meshlab.de</td>\n",
       "      <td>Not Available</td>\n",
       "    </tr>\n",
       "    <tr>\n",
       "      <th>11</th>\n",
       "      <td>Frank</td>\n",
       "      <td>Martin</td>\n",
       "      <td>frank.PRIDemo@meshlab.de</td>\n",
       "      <td>Not Available</td>\n",
       "    </tr>\n",
       "    <tr>\n",
       "      <th>12</th>\n",
       "      <td>Priyanka jain</td>\n",
       "      <td>Mysore Jinesh</td>\n",
       "      <td>Priyanka.Jinesh@outlook.com</td>\n",
       "      <td>2022-03-31T19:42:40.871Z</td>\n",
       "    </tr>\n",
       "  </tbody>\n",
       "</table>\n",
       "</div>"
      ],
      "text/plain": [
       "        First_Name      Last_Name                         Email  \\\n",
       "0           Nicola         Martin     nicola.PRIDemo@meshlab.de   \n",
       "1          Richard           Best        srv.PRIDemo@meshlab.de   \n",
       "2            Carol          Brown        pgm.PRIDemo@meshlab.de   \n",
       "3            Peter        Schmidt        cio.PRIDemo@meshlab.de   \n",
       "4            Paula         Watson        mgr.PRIDemo@meshlab.de   \n",
       "5        Christina          Weber  christina.PRIDemo@meshlab.de   \n",
       "6              Max         Sander        max.PRIDemo@meshlab.de   \n",
       "7         Benjamin         Parker   benjamin.PRIDemo@meshlab.de   \n",
       "8           LeanIX        Support            support@leanix.net   \n",
       "9         Francois         Kruger    francois.kruger@leanix.net   \n",
       "10           David           Koop     office.PRIDemo@meshlab.de   \n",
       "11           Frank         Martin      frank.PRIDemo@meshlab.de   \n",
       "12  Priyanka jain   Mysore Jinesh   Priyanka.Jinesh@outlook.com   \n",
       "\n",
       "               Current_Login  \n",
       "0              Not Available  \n",
       "1              Not Available  \n",
       "2              Not Available  \n",
       "3              Not Available  \n",
       "4              Not Available  \n",
       "5              Not Available  \n",
       "6              Not Available  \n",
       "7              Not Available  \n",
       "8   2022-04-01T11:44:00.248Z  \n",
       "9   2022-04-01T09:22:47.671Z  \n",
       "10             Not Available  \n",
       "11             Not Available  \n",
       "12  2022-03-31T19:42:40.871Z  "
      ]
     },
     "execution_count": 22,
     "metadata": {},
     "output_type": "execute_result"
    }
   ],
   "source": [
    "df.head(13)"
   ]
  },
  {
   "cell_type": "code",
   "execution_count": null,
   "id": "c9003f5c",
   "metadata": {},
   "outputs": [],
   "source": []
  }
 ],
 "metadata": {
  "kernelspec": {
   "display_name": "Python 3 (ipykernel)",
   "language": "python",
   "name": "python3"
  },
  "language_info": {
   "codemirror_mode": {
    "name": "ipython",
    "version": 3
   },
   "file_extension": ".py",
   "mimetype": "text/x-python",
   "name": "python",
   "nbconvert_exporter": "python",
   "pygments_lexer": "ipython3",
   "version": "3.9.7"
  }
 },
 "nbformat": 4,
 "nbformat_minor": 5
}
